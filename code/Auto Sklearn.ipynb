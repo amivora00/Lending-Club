{
 "cells": [
  {
   "cell_type": "code",
   "execution_count": 5,
   "metadata": {},
   "outputs": [],
   "source": [
    "import sklearn.model_selection\n",
    "import sklearn.datasets\n",
    "import sklearn.metrics\n",
    "import autosklearn.regression\n",
    "import pandas as pd\n",
    "from sklearn.model_selection import train_test_split\n",
    "import decimal\n",
    "import warnings\n",
    "import numpy as np"
   ]
  },
  {
   "cell_type": "code",
   "execution_count": 6,
   "metadata": {},
   "outputs": [],
   "source": [
    "def warn(*args, **kwargs):\n",
    "    pass\n",
    "\n",
    "warnings.warn = warn"
   ]
  },
  {
   "cell_type": "code",
   "execution_count": 7,
   "metadata": {},
   "outputs": [],
   "source": [
    "def main():\n",
    "    #import data from csv using pandas\n",
    "    data=pd.read_excel('../data/cleaned_data_new.xlsx', dtype=str)\n",
    " \n",
    "    #Slicing the data into training and target data\n",
    "    X = data.iloc[:, 1:].values\n",
    "    y = data.iloc[:,0].values\n",
    "    \n",
    "    #Initializing the number of features in dataset\n",
    "    feature_types = (['numerical'] * 39)\n",
    "    \n",
    "    #Training the data with test size 0.2\n",
    "    X_train, X_test, y_train, y_test = train_test_split(X, y, test_size = 0.2, random_state=1)\n",
    "\n",
    "    #Performing auto-sklearn\n",
    "    automl = autosklearn.regression.AutoSklearnRegressor(\n",
    "        time_left_for_this_task=120,\n",
    "        per_run_time_limit=30,\n",
    "        tmp_folder='/tmp/lending_club_tmp_test2',\n",
    "        output_folder='/tmp/lending_club_out_test2',\n",
    "    )\n",
    "    automl.fit(X_train, y_train, dataset_name='lending_club', feat_type=feature_types)\n",
    "    predictions = automl.predict(X_test)\n",
    "    \n",
    "    print(automl.show_models())\n",
    "    \n",
    "    #Calculating the R2 score\n",
    "    print(\"R2 score:\", sklearn.metrics.r2_score(y_test, predictions))\n",
    "    \n",
    "    #Calculating the MAPE value\n",
    "    print('Mean Absolute Percentage Error:', mean_absolute_percentage_error(y_test.astype(np.float), predictions.astype(np.float)))\n",
    "\n",
    "    \n",
    "    \n",
    "def mean_absolute_percentage_error(y_test, y_pred):\n",
    "    y_test, y_pred = np.array(y_test), np.array(y_pred)\n",
    "    return np.mean(np.abs((y_test - y_pred) / y_test)) * 100\n",
    "\n"
   ]
  },
  {
   "cell_type": "code",
   "execution_count": null,
   "metadata": {},
   "outputs": [],
   "source": [
    "main()"
   ]
  },
  {
   "cell_type": "code",
   "execution_count": null,
   "metadata": {},
   "outputs": [],
   "source": []
  }
 ],
 "metadata": {
  "kernelspec": {
   "display_name": "Python 3",
   "language": "python",
   "name": "python3"
  },
  "language_info": {
   "codemirror_mode": {
    "name": "ipython",
    "version": 3
   },
   "file_extension": ".py",
   "mimetype": "text/x-python",
   "name": "python",
   "nbconvert_exporter": "python",
   "pygments_lexer": "ipython3",
   "version": "3.7.1"
  }
 },
 "nbformat": 4,
 "nbformat_minor": 2
}
